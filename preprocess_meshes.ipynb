{
 "cells": [
  {
   "cell_type": "code",
   "execution_count": 1,
   "metadata": {},
   "outputs": [],
   "source": [
    "import nibabel as nib\n",
    "import matplotlib.pyplot as plt\n",
    "\n",
    "import matplotlib.tight_bbox as tight_bbox\n",
    "import matplotlib.animation as animation\n",
    "import matplotlib.pylab as plt\n",
    "\n",
    "from IPython.display import HTML\n",
    "from scipy.ndimage import zoom\n",
    "\n",
    "import numpy as np\n",
    "import pandas as pd\n",
    "import trimesh\n",
    "from scipy.ndimage import binary_dilation, binary_erosion\n",
    "import pyvista as pv\n",
    "\n",
    "import glob\n",
    "import os\n",
    "\n",
    "\n",
    "def pad_to_square(image):\n",
    "    H, W, S, T = image.shape\n",
    "    if H == W:\n",
    "        return image  # Already square​\n",
    "\n",
    "    # Calculate padding\n",
    "    if H < W:\n",
    "        pad_top = (W - H) // 2\n",
    "        pad_bottom = (W - H) - pad_top\n",
    "        padding = ((pad_top, pad_bottom), (0, 0), (0, 0), (0, 0))\n",
    "    else:  # W < H\n",
    "        pad_left = (H - W) // 2\n",
    "        pad_right = (H - W) - pad_left\n",
    "        padding = ((0, 0), (pad_left, pad_right), (0, 0), (0, 0))\n",
    "\n",
    "    # Apply padding\n",
    "    padded_image = np.pad(image, padding, mode='constant', constant_values=0)\n",
    "    return padded_image\n",
    "\n",
    "\n",
    "def load_nii(nii_path):\n",
    "    file = nib.load(nii_path)\n",
    "    data = file.get_fdata()\n",
    "    return data\n",
    "\n",
    "def make_2d_video(image, mask, patient):\n",
    "    position = image.shape[2]\n",
    "    timesteps = image.shape[3]\n",
    "    num_tiles = position\n",
    "\n",
    "    grid_rows = int(np.sqrt(num_tiles) + 0.5)  # Round.\n",
    "    grid_cols = (num_tiles + grid_rows - 1) // grid_rows     # Ceil.\n",
    "\n",
    "\n",
    "    row_cols = np.ceil(np.sqrt(position)) \n",
    "    fig, axes = plt.subplots(grid_rows,grid_cols,figsize = (grid_cols*3,grid_rows*3))\n",
    "\n",
    "    frames = []\n",
    "    for time in range(timesteps):\n",
    "        ttl = plt.text(0.5, 1.01, f'timestep = {time + 1}/{timesteps}', horizontalalignment='center', verticalalignment='bottom', transform=axes[0,0].transAxes, fontsize=\"large\")\n",
    "        artists = [ttl]\n",
    "        for row, col in np.ndindex(grid_rows, grid_cols): \n",
    "            axes[row, col].axis('off')\n",
    "            axes[row, col].patch.set_facecolor('white')\n",
    "            pos = row * grid_cols + col\n",
    "            if pos < position:\n",
    "                artists.append(axes[row, col].imshow(image[:,:,pos, time], cmap = 'gray', vmin = np.min(image), vmax = np.max(image)))\n",
    "                artists.append(axes[row, col].imshow(mask[:,:,pos, time, 1], alpha = mask[:,:,pos, time, 1] * 0.8, cmap = 'Blues'))\n",
    "                artists.append(axes[row, col].imshow(mask[:,:,pos, time, 2], alpha = mask[:,:,pos, time, 2] * 0.8, cmap = 'jet'))\n",
    "        frames.append(artists)\n",
    "    bbox_inches = fig.get_tightbbox(fig.canvas.get_renderer())\n",
    "    bbox_inches = bbox_inches.padded(0.1)\n",
    "    tight_bbox.adjust_bbox(fig, bbox_inches)\n",
    "    fig.set_size_inches(bbox_inches.width, bbox_inches.height)\n",
    "    ani = animation.ArtistAnimation(fig, frames)\n",
    "    ani.save(f'2dplot/{patient}.gif', fps=round(timesteps/2))\n",
    "    plt.close()\n",
    "\n",
    "\n",
    "# def find_crop_box(mask, crop_factor):\n",
    "    '''\n",
    "    Calculated a bounding box that contains the masks inside\n",
    "    '''\n",
    "    mask = np.eye(3)[mask] \n",
    "    mask = np.sum(mask[...,1:], axis = (2,3,4))\n",
    "\n",
    "\n",
    "    x = np.sum(mask, axis = 1)\n",
    "    y = np.sum(mask, axis = 0)\n",
    "\n",
    "    top = np.min(np.nonzero(x)) - 1\n",
    "    bottom = np.max(np.nonzero(x)) + 1\n",
    "\n",
    "    left = np.min(np.nonzero(y)) - 1\n",
    "    right = np.max(np.nonzero(y)) + 1\n",
    "    if abs(right - left) > abs(top - bottom):\n",
    "            largest_side = abs(right - left)\n",
    "    else:\n",
    "        largest_side = abs(top - bottom)\n",
    "    x_mid = round((left + right)/2)\n",
    "    y_mid = round((top + bottom)/2)\n",
    "    half_largest_side = round(largest_side * crop_factor/2)\n",
    "    x_max, x_min = round(x_mid + half_largest_side), round(x_mid - half_largest_side)\n",
    "    y_max, y_min = round(y_mid + half_largest_side), round(y_mid - half_largest_side)\n",
    "    if x_min < 0:\n",
    "        x_max -= x_min \n",
    "        x_min = 0\n",
    "        \n",
    "    if y_min < 0:\n",
    "        y_max -= y_min\n",
    "        y_min = 0 \n",
    "    \n",
    "    return [x_min, y_min, x_max, y_max]\n",
    "\n",
    "\n",
    "# Load the NIfTI file\n",
    "path = 'cine_sax_compressed_derivatives'\n",
    "output_path = 'clean'\n",
    "patients = [pat.split('/')[-1].split('_')[-1].split('.csv')[0] for pat in glob.glob(f'{path}/*.csv')]\n",
    "\n",
    "for patient_num, patient in enumerate(patients[:1]):\n",
    "    if not os.path.exists(f'{output_path}/images/{patient}.nii.gz'):\n",
    "        df = pd.read_csv(f'{path}/saxdf___{patient}.csv')\n",
    "\n",
    "        image = load_nii(f'{path}/image___{patient}.nii.gz')\n",
    "        mask = load_nii(f'{path}/masks___{patient}.nii.gz').astype('uint8')\n",
    "\n",
    "\n",
    "\n",
    "        if df['true_slicelocation'].values[-1] < df['true_slicelocation'].values[0]:\n",
    "            image = image[:,:,::-1,:]\n",
    "            mask = mask[:,:,::-1,:]\n",
    "\n",
    "        # x_min, y_min, x_max, y_max = find_crop_box(mask, crop_factor = 2)\n",
    "\n",
    "        # image = image[y_min:y_max,x_min:x_max,...]\n",
    "        # mask = mask[y_min:y_max,x_min:x_max,...]\n",
    "\n",
    "        # image = pad_to_square(image)\n",
    "        # mask = pad_to_square(mask)\n",
    "\n",
    "        target_image = 128\n",
    "        target_time = 32\n",
    "        time_zoom = target_time / image.shape[3]\n",
    "\n",
    "        # image = zoom(image, (image_zoom, image_zoom, 1, time_zoom))\n",
    "        # mask = zoom(mask, (image_zoom, image_zoom, 1, time_zoom), order=0)\n",
    "\n",
    "\n",
    "        # nib_image = nib.Nifti1Image(image, affine=np.eye(4))\n",
    "        # nib.save(nib_image, f'{output_path}/images/{patient}.nii.gz')\n",
    "\n",
    "        # nib_mask = nib.Nifti1Image(mask, affine=np.eye(4), dtype=np.uint8)\n",
    "        # nib.save(nib_mask, f'{output_path}/masks/{patient}.nii.gz') \n",
    "\n",
    "\n",
    "        # image = load_nii(f'{output_path}/images/{patient}.nii.gz')\n",
    "        # mask = load_nii(f'{output_path}/masks/{patient}.nii.gz').astype('uint8')\n",
    "\n",
    "        # # make_2d_video(image, np.eye(3)[mask] , patient)\n",
    "        # # make_3d_video(np.eye(3)[mask], patient)"
   ]
  },
  {
   "cell_type": "code",
   "execution_count": 2,
   "metadata": {},
   "outputs": [],
   "source": [
    "pixel_spacings = [0.85, 1.05, 1.07]\n",
    "thicknesses = [7, 8, 6]\n",
    "pixel_spacing = pixel_spacings[patient_num]\n",
    "thickness = thicknesses[patient_num]"
   ]
  },
  {
   "cell_type": "code",
   "execution_count": 3,
   "metadata": {},
   "outputs": [],
   "source": [
    "# image = zoom(image, (pixel_spacing, pixel_spacing, thickness, time_zoom))"
   ]
  },
  {
   "cell_type": "code",
   "execution_count": 4,
   "metadata": {},
   "outputs": [],
   "source": [
    "mesh_mask = zoom(mask, (pixel_spacing, pixel_spacing, thickness, time_zoom), order = 0)"
   ]
  },
  {
   "cell_type": "code",
   "execution_count": 5,
   "metadata": {},
   "outputs": [],
   "source": [
    "mesh_mask = np.eye(3)[mesh_mask]"
   ]
  },
  {
   "cell_type": "code",
   "execution_count": 8,
   "metadata": {},
   "outputs": [],
   "source": [
    "epi_mask = np.max(mesh_mask[...,1:], -1)"
   ]
  },
  {
   "cell_type": "code",
   "execution_count": 24,
   "metadata": {},
   "outputs": [],
   "source": [
    "endo_mask = mesh_mask[...,-1]\n",
    "endo_mask = binary_dilation(endo_mask, iterations=10)\n",
    "endo_mask = binary_erosion(endo_mask, iterations=10)"
   ]
  },
  {
   "cell_type": "code",
   "execution_count": 34,
   "metadata": {},
   "outputs": [
    {
     "ename": "",
     "evalue": "",
     "output_type": "error",
     "traceback": [
      "\u001b[1;31mThe Kernel crashed while executing code in the current cell or a previous cell. \n",
      "\u001b[1;31mPlease review the code in the cell(s) to identify a possible cause of the failure. \n",
      "\u001b[1;31mClick <a href='https://aka.ms/vscodeJupyterKernelCrash'>here</a> for more info. \n",
      "\u001b[1;31mView Jupyter <a href='command:jupyter.viewOutput'>log</a> for further details."
     ]
    }
   ],
   "source": [
    "myo_mask = epi_mask - endo_mask"
   ]
  },
  {
   "cell_type": "code",
   "execution_count": null,
   "metadata": {},
   "outputs": [],
   "source": []
  },
  {
   "cell_type": "code",
   "execution_count": 15,
   "metadata": {},
   "outputs": [],
   "source": [
    "epi_mesh = mesh_mask.copy()\n",
    "epi_mesh[epi_mesh>0] = 1\n",
    "epi_mesh = trimesh.voxel.ops.matrix_to_marching_cubes(epi_mesh[...,0])\n",
    "epi_mesh = trimesh.smoothing.filter_taubin(epi_mesh, iterations= 50)\n",
    "epi_mesh = pv.wrap(epi_mesh).save('test.vtk')"
   ]
  },
  {
   "cell_type": "code",
   "execution_count": 16,
   "metadata": {},
   "outputs": [],
   "source": [
    "myo_mesh = mesh_mask.copy()\n",
    "myo_mesh[myo_mesh==1] = 1\n",
    "myo_mesh[myo_mesh!=1] = 0\n",
    "myo_mesh = trimesh.voxel.ops.matrix_to_marching_cubes(myo_mesh[...,0])\n",
    "myo_mesh = trimesh.smoothing.filter_taubin(myo_mesh, iterations= 50)\n",
    "myo_mesh = pv.wrap(myo_mesh).save('test.vtk')"
   ]
  },
  {
   "cell_type": "code",
   "execution_count": 20,
   "metadata": {},
   "outputs": [
    {
     "data": {
      "text/plain": [
       "(299, 299, 84, 32)"
      ]
     },
     "execution_count": 20,
     "metadata": {},
     "output_type": "execute_result"
    }
   ],
   "source": [
    "mesh_mask.shape"
   ]
  },
  {
   "cell_type": "code",
   "execution_count": 21,
   "metadata": {},
   "outputs": [
    {
     "data": {
      "text/plain": [
       "12.0"
      ]
     },
     "execution_count": 21,
     "metadata": {},
     "output_type": "execute_result"
    }
   ],
   "source": [
    "84/7"
   ]
  }
 ],
 "metadata": {
  "kernelspec": {
   "display_name": "Python 3",
   "language": "python",
   "name": "python3"
  },
  "language_info": {
   "codemirror_mode": {
    "name": "ipython",
    "version": 3
   },
   "file_extension": ".py",
   "mimetype": "text/x-python",
   "name": "python",
   "nbconvert_exporter": "python",
   "pygments_lexer": "ipython3",
   "version": "3.10.12"
  }
 },
 "nbformat": 4,
 "nbformat_minor": 2
}
